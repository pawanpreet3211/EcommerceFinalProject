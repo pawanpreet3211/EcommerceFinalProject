{
  "nbformat": 4,
  "nbformat_minor": 0,
  "metadata": {
    "colab": {
      "provenance": []
    },
    "kernelspec": {
      "name": "python3",
      "display_name": "Python 3"
    },
    "language_info": {
      "name": "python"
    }
  },
  "cells": [
    {
      "cell_type": "code",
      "source": [
        "!pip install tensorflow"
      ],
      "metadata": {
        "colab": {
          "base_uri": "https://localhost:8080/"
        },
        "id": "iGLpdFew-X_K",
        "outputId": "3fc4bbf6-3a2f-4511-857a-4fa4c5bd14fe"
      },
      "execution_count": 1,
      "outputs": [
        {
          "output_type": "stream",
          "name": "stdout",
          "text": [
            "Requirement already satisfied: tensorflow in /usr/local/lib/python3.10/dist-packages (2.15.0)\n",
            "Requirement already satisfied: absl-py>=1.0.0 in /usr/local/lib/python3.10/dist-packages (from tensorflow) (1.4.0)\n",
            "Requirement already satisfied: astunparse>=1.6.0 in /usr/local/lib/python3.10/dist-packages (from tensorflow) (1.6.3)\n",
            "Requirement already satisfied: flatbuffers>=23.5.26 in /usr/local/lib/python3.10/dist-packages (from tensorflow) (24.3.25)\n",
            "Requirement already satisfied: gast!=0.5.0,!=0.5.1,!=0.5.2,>=0.2.1 in /usr/local/lib/python3.10/dist-packages (from tensorflow) (0.5.4)\n",
            "Requirement already satisfied: google-pasta>=0.1.1 in /usr/local/lib/python3.10/dist-packages (from tensorflow) (0.2.0)\n",
            "Requirement already satisfied: h5py>=2.9.0 in /usr/local/lib/python3.10/dist-packages (from tensorflow) (3.9.0)\n",
            "Requirement already satisfied: libclang>=13.0.0 in /usr/local/lib/python3.10/dist-packages (from tensorflow) (18.1.1)\n",
            "Requirement already satisfied: ml-dtypes~=0.2.0 in /usr/local/lib/python3.10/dist-packages (from tensorflow) (0.2.0)\n",
            "Requirement already satisfied: numpy<2.0.0,>=1.23.5 in /usr/local/lib/python3.10/dist-packages (from tensorflow) (1.25.2)\n",
            "Requirement already satisfied: opt-einsum>=2.3.2 in /usr/local/lib/python3.10/dist-packages (from tensorflow) (3.3.0)\n",
            "Requirement already satisfied: packaging in /usr/local/lib/python3.10/dist-packages (from tensorflow) (24.0)\n",
            "Requirement already satisfied: protobuf!=4.21.0,!=4.21.1,!=4.21.2,!=4.21.3,!=4.21.4,!=4.21.5,<5.0.0dev,>=3.20.3 in /usr/local/lib/python3.10/dist-packages (from tensorflow) (3.20.3)\n",
            "Requirement already satisfied: setuptools in /usr/local/lib/python3.10/dist-packages (from tensorflow) (67.7.2)\n",
            "Requirement already satisfied: six>=1.12.0 in /usr/local/lib/python3.10/dist-packages (from tensorflow) (1.16.0)\n",
            "Requirement already satisfied: termcolor>=1.1.0 in /usr/local/lib/python3.10/dist-packages (from tensorflow) (2.4.0)\n",
            "Requirement already satisfied: typing-extensions>=3.6.6 in /usr/local/lib/python3.10/dist-packages (from tensorflow) (4.11.0)\n",
            "Requirement already satisfied: wrapt<1.15,>=1.11.0 in /usr/local/lib/python3.10/dist-packages (from tensorflow) (1.14.1)\n",
            "Requirement already satisfied: tensorflow-io-gcs-filesystem>=0.23.1 in /usr/local/lib/python3.10/dist-packages (from tensorflow) (0.36.0)\n",
            "Requirement already satisfied: grpcio<2.0,>=1.24.3 in /usr/local/lib/python3.10/dist-packages (from tensorflow) (1.62.2)\n",
            "Requirement already satisfied: tensorboard<2.16,>=2.15 in /usr/local/lib/python3.10/dist-packages (from tensorflow) (2.15.2)\n",
            "Requirement already satisfied: tensorflow-estimator<2.16,>=2.15.0 in /usr/local/lib/python3.10/dist-packages (from tensorflow) (2.15.0)\n",
            "Requirement already satisfied: keras<2.16,>=2.15.0 in /usr/local/lib/python3.10/dist-packages (from tensorflow) (2.15.0)\n",
            "Requirement already satisfied: wheel<1.0,>=0.23.0 in /usr/local/lib/python3.10/dist-packages (from astunparse>=1.6.0->tensorflow) (0.43.0)\n",
            "Requirement already satisfied: google-auth<3,>=1.6.3 in /usr/local/lib/python3.10/dist-packages (from tensorboard<2.16,>=2.15->tensorflow) (2.27.0)\n",
            "Requirement already satisfied: google-auth-oauthlib<2,>=0.5 in /usr/local/lib/python3.10/dist-packages (from tensorboard<2.16,>=2.15->tensorflow) (1.2.0)\n",
            "Requirement already satisfied: markdown>=2.6.8 in /usr/local/lib/python3.10/dist-packages (from tensorboard<2.16,>=2.15->tensorflow) (3.6)\n",
            "Requirement already satisfied: requests<3,>=2.21.0 in /usr/local/lib/python3.10/dist-packages (from tensorboard<2.16,>=2.15->tensorflow) (2.31.0)\n",
            "Requirement already satisfied: tensorboard-data-server<0.8.0,>=0.7.0 in /usr/local/lib/python3.10/dist-packages (from tensorboard<2.16,>=2.15->tensorflow) (0.7.2)\n",
            "Requirement already satisfied: werkzeug>=1.0.1 in /usr/local/lib/python3.10/dist-packages (from tensorboard<2.16,>=2.15->tensorflow) (3.0.2)\n",
            "Requirement already satisfied: cachetools<6.0,>=2.0.0 in /usr/local/lib/python3.10/dist-packages (from google-auth<3,>=1.6.3->tensorboard<2.16,>=2.15->tensorflow) (5.3.3)\n",
            "Requirement already satisfied: pyasn1-modules>=0.2.1 in /usr/local/lib/python3.10/dist-packages (from google-auth<3,>=1.6.3->tensorboard<2.16,>=2.15->tensorflow) (0.4.0)\n",
            "Requirement already satisfied: rsa<5,>=3.1.4 in /usr/local/lib/python3.10/dist-packages (from google-auth<3,>=1.6.3->tensorboard<2.16,>=2.15->tensorflow) (4.9)\n",
            "Requirement already satisfied: requests-oauthlib>=0.7.0 in /usr/local/lib/python3.10/dist-packages (from google-auth-oauthlib<2,>=0.5->tensorboard<2.16,>=2.15->tensorflow) (1.3.1)\n",
            "Requirement already satisfied: charset-normalizer<4,>=2 in /usr/local/lib/python3.10/dist-packages (from requests<3,>=2.21.0->tensorboard<2.16,>=2.15->tensorflow) (3.3.2)\n",
            "Requirement already satisfied: idna<4,>=2.5 in /usr/local/lib/python3.10/dist-packages (from requests<3,>=2.21.0->tensorboard<2.16,>=2.15->tensorflow) (3.7)\n",
            "Requirement already satisfied: urllib3<3,>=1.21.1 in /usr/local/lib/python3.10/dist-packages (from requests<3,>=2.21.0->tensorboard<2.16,>=2.15->tensorflow) (2.0.7)\n",
            "Requirement already satisfied: certifi>=2017.4.17 in /usr/local/lib/python3.10/dist-packages (from requests<3,>=2.21.0->tensorboard<2.16,>=2.15->tensorflow) (2024.2.2)\n",
            "Requirement already satisfied: MarkupSafe>=2.1.1 in /usr/local/lib/python3.10/dist-packages (from werkzeug>=1.0.1->tensorboard<2.16,>=2.15->tensorflow) (2.1.5)\n",
            "Requirement already satisfied: pyasn1<0.7.0,>=0.4.6 in /usr/local/lib/python3.10/dist-packages (from pyasn1-modules>=0.2.1->google-auth<3,>=1.6.3->tensorboard<2.16,>=2.15->tensorflow) (0.6.0)\n",
            "Requirement already satisfied: oauthlib>=3.0.0 in /usr/local/lib/python3.10/dist-packages (from requests-oauthlib>=0.7.0->google-auth-oauthlib<2,>=0.5->tensorboard<2.16,>=2.15->tensorflow) (3.2.2)\n"
          ]
        }
      ]
    },
    {
      "cell_type": "code",
      "execution_count": 16,
      "metadata": {
        "id": "oWBSuWDW-FPT"
      },
      "outputs": [],
      "source": [
        "import pandas as pd\n",
        "from sklearn.model_selection import train_test_split\n",
        "from sklearn.preprocessing import StandardScaler, LabelEncoder\n",
        "from tensorflow.keras.models import Sequential\n",
        "from tensorflow.keras.layers import Dense\n",
        "from tensorflow.keras.utils import to_categorical\n",
        "\n",
        "# Step 1: Load the data\n",
        "data = pd.read_csv(\"ecommerce_user_behaviorX.csv\")"
      ]
    },
    {
      "cell_type": "code",
      "source": [
        "# Step 2: Preprocessing\n",
        "# Handling missing values, if any\n",
        "data.fillna(method='ffill', inplace=True)"
      ],
      "metadata": {
        "id": "yyQM47JJ-ZNW"
      },
      "execution_count": 17,
      "outputs": []
    },
    {
      "cell_type": "code",
      "source": [
        "# Encode categorical variables\n",
        "label_encoders = {}\n",
        "for column in ['User ID', 'Device Type', 'Location']:\n",
        "    le = LabelEncoder()\n",
        "    data[column] = le.fit_transform(data[column])\n",
        "    label_encoders[column] = le"
      ],
      "metadata": {
        "id": "-NtgsHAs-5mG"
      },
      "execution_count": 18,
      "outputs": []
    },
    {
      "cell_type": "code",
      "source": [
        "\n",
        "# Target variable encoding\n",
        "target_encoder = LabelEncoder()\n",
        "data['Authentication Method'] = target_encoder.fit_transform(data['Authentication Method'])\n",
        "\n",
        "# Splitting the data into features and target\n",
        "X = data.drop('Authentication Method', axis=1)\n",
        "y = to_categorical(data['Authentication Method'])"
      ],
      "metadata": {
        "id": "87rTHj8U-6_X"
      },
      "execution_count": 19,
      "outputs": []
    },
    {
      "cell_type": "code",
      "source": [
        "# Standardizing the features\n",
        "scaler = StandardScaler()\n",
        "X = scaler.fit_transform(X)\n",
        "\n",
        "# Splitting the dataset into training and testing sets\n",
        "X_train, X_test, y_train, y_test = train_test_split(X, y, test_size=0.2, random_state=42)"
      ],
      "metadata": {
        "id": "OBwnvAjx-9cj"
      },
      "execution_count": 20,
      "outputs": []
    },
    {
      "cell_type": "code",
      "source": [
        "# Step 3: Building the model\n",
        "model = Sequential([\n",
        "    Dense(64, input_shape=(X_train.shape[1],), activation='relu'),\n",
        "    Dense(32, activation='relu'),\n",
        "    Dense(y_train.shape[1], activation='softmax')\n",
        "])"
      ],
      "metadata": {
        "id": "Cv9h5srG_AUI"
      },
      "execution_count": 21,
      "outputs": []
    },
    {
      "cell_type": "code",
      "source": [
        "# Compiling the model\n",
        "model.compile(optimizer='adam', loss='categorical_crossentropy', metrics=['accuracy'])"
      ],
      "metadata": {
        "id": "pqioKAOs_BO2"
      },
      "execution_count": 22,
      "outputs": []
    },
    {
      "cell_type": "code",
      "source": [
        "# Step 4: Training the model\n",
        "model.fit(X_train, y_train, epochs=50, batch_size=32, validation_split=0.2)"
      ],
      "metadata": {
        "colab": {
          "base_uri": "https://localhost:8080/"
        },
        "id": "lfmOSY2d_CC7",
        "outputId": "dd42d427-912d-4ec3-9aa8-1a109e139fad"
      },
      "execution_count": 23,
      "outputs": [
        {
          "output_type": "stream",
          "name": "stdout",
          "text": [
            "Epoch 1/50\n",
            "600/600 [==============================] - 2s 2ms/step - loss: 0.7090 - accuracy: 0.6754 - val_loss: 0.4626 - val_accuracy: 0.7283\n",
            "Epoch 2/50\n",
            "600/600 [==============================] - 1s 2ms/step - loss: 0.4168 - accuracy: 0.7438 - val_loss: 0.4073 - val_accuracy: 0.7365\n",
            "Epoch 3/50\n",
            "600/600 [==============================] - 1s 2ms/step - loss: 0.3883 - accuracy: 0.7498 - val_loss: 0.3925 - val_accuracy: 0.7352\n",
            "Epoch 4/50\n",
            "600/600 [==============================] - 1s 2ms/step - loss: 0.3789 - accuracy: 0.7534 - val_loss: 0.3868 - val_accuracy: 0.7358\n",
            "Epoch 5/50\n",
            "600/600 [==============================] - 2s 4ms/step - loss: 0.3736 - accuracy: 0.7585 - val_loss: 0.3851 - val_accuracy: 0.7275\n",
            "Epoch 6/50\n",
            "600/600 [==============================] - 1s 2ms/step - loss: 0.3695 - accuracy: 0.7610 - val_loss: 0.3938 - val_accuracy: 0.7433\n",
            "Epoch 7/50\n",
            "600/600 [==============================] - 1s 2ms/step - loss: 0.3689 - accuracy: 0.7598 - val_loss: 0.3816 - val_accuracy: 0.7342\n",
            "Epoch 8/50\n",
            "600/600 [==============================] - 1s 2ms/step - loss: 0.3662 - accuracy: 0.7650 - val_loss: 0.3829 - val_accuracy: 0.7404\n",
            "Epoch 9/50\n",
            "600/600 [==============================] - 2s 3ms/step - loss: 0.3640 - accuracy: 0.7659 - val_loss: 0.3806 - val_accuracy: 0.7333\n",
            "Epoch 10/50\n",
            "600/600 [==============================] - 1s 2ms/step - loss: 0.3626 - accuracy: 0.7709 - val_loss: 0.3783 - val_accuracy: 0.7429\n",
            "Epoch 11/50\n",
            "600/600 [==============================] - 1s 2ms/step - loss: 0.3622 - accuracy: 0.7672 - val_loss: 0.3827 - val_accuracy: 0.7379\n",
            "Epoch 12/50\n",
            "600/600 [==============================] - 1s 2ms/step - loss: 0.3612 - accuracy: 0.7704 - val_loss: 0.3774 - val_accuracy: 0.7302\n",
            "Epoch 13/50\n",
            "600/600 [==============================] - 2s 3ms/step - loss: 0.3597 - accuracy: 0.7702 - val_loss: 0.3781 - val_accuracy: 0.7419\n",
            "Epoch 14/50\n",
            "600/600 [==============================] - 2s 3ms/step - loss: 0.3581 - accuracy: 0.7763 - val_loss: 0.3763 - val_accuracy: 0.7448\n",
            "Epoch 15/50\n",
            "600/600 [==============================] - 1s 2ms/step - loss: 0.3587 - accuracy: 0.7731 - val_loss: 0.3781 - val_accuracy: 0.7392\n",
            "Epoch 16/50\n",
            "600/600 [==============================] - 1s 2ms/step - loss: 0.3578 - accuracy: 0.7781 - val_loss: 0.3794 - val_accuracy: 0.7373\n",
            "Epoch 17/50\n",
            "600/600 [==============================] - 2s 3ms/step - loss: 0.3572 - accuracy: 0.7742 - val_loss: 0.3787 - val_accuracy: 0.7442\n",
            "Epoch 18/50\n",
            "600/600 [==============================] - 1s 2ms/step - loss: 0.3558 - accuracy: 0.7769 - val_loss: 0.3799 - val_accuracy: 0.7462\n",
            "Epoch 19/50\n",
            "600/600 [==============================] - 2s 3ms/step - loss: 0.3561 - accuracy: 0.7759 - val_loss: 0.3821 - val_accuracy: 0.7431\n",
            "Epoch 20/50\n",
            "600/600 [==============================] - 1s 2ms/step - loss: 0.3549 - accuracy: 0.7775 - val_loss: 0.3793 - val_accuracy: 0.7354\n",
            "Epoch 21/50\n",
            "600/600 [==============================] - 2s 3ms/step - loss: 0.3527 - accuracy: 0.7811 - val_loss: 0.3833 - val_accuracy: 0.7371\n",
            "Epoch 22/50\n",
            "600/600 [==============================] - 2s 4ms/step - loss: 0.3529 - accuracy: 0.7830 - val_loss: 0.3818 - val_accuracy: 0.7352\n",
            "Epoch 23/50\n",
            "600/600 [==============================] - 1s 2ms/step - loss: 0.3513 - accuracy: 0.7839 - val_loss: 0.3801 - val_accuracy: 0.7410\n",
            "Epoch 24/50\n",
            "600/600 [==============================] - 1s 2ms/step - loss: 0.3508 - accuracy: 0.7851 - val_loss: 0.3811 - val_accuracy: 0.7496\n",
            "Epoch 25/50\n",
            "600/600 [==============================] - 1s 2ms/step - loss: 0.3496 - accuracy: 0.7876 - val_loss: 0.3908 - val_accuracy: 0.7281\n",
            "Epoch 26/50\n",
            "600/600 [==============================] - 1s 2ms/step - loss: 0.3496 - accuracy: 0.7869 - val_loss: 0.3839 - val_accuracy: 0.7452\n",
            "Epoch 27/50\n",
            "600/600 [==============================] - 1s 2ms/step - loss: 0.3484 - accuracy: 0.7899 - val_loss: 0.3829 - val_accuracy: 0.7410\n",
            "Epoch 28/50\n",
            "600/600 [==============================] - 1s 2ms/step - loss: 0.3474 - accuracy: 0.7916 - val_loss: 0.3819 - val_accuracy: 0.7404\n",
            "Epoch 29/50\n",
            "600/600 [==============================] - 1s 2ms/step - loss: 0.3460 - accuracy: 0.7901 - val_loss: 0.3854 - val_accuracy: 0.7444\n",
            "Epoch 30/50\n",
            "600/600 [==============================] - 2s 3ms/step - loss: 0.3457 - accuracy: 0.7936 - val_loss: 0.3905 - val_accuracy: 0.7469\n",
            "Epoch 31/50\n",
            "600/600 [==============================] - 2s 3ms/step - loss: 0.3453 - accuracy: 0.7905 - val_loss: 0.3814 - val_accuracy: 0.7483\n",
            "Epoch 32/50\n",
            "600/600 [==============================] - 1s 2ms/step - loss: 0.3443 - accuracy: 0.7933 - val_loss: 0.3823 - val_accuracy: 0.7508\n",
            "Epoch 33/50\n",
            "600/600 [==============================] - 1s 2ms/step - loss: 0.3440 - accuracy: 0.7948 - val_loss: 0.3920 - val_accuracy: 0.7454\n",
            "Epoch 34/50\n",
            "600/600 [==============================] - 1s 2ms/step - loss: 0.3427 - accuracy: 0.7969 - val_loss: 0.3857 - val_accuracy: 0.7417\n",
            "Epoch 35/50\n",
            "600/600 [==============================] - 1s 2ms/step - loss: 0.3431 - accuracy: 0.7960 - val_loss: 0.3913 - val_accuracy: 0.7427\n",
            "Epoch 36/50\n",
            "600/600 [==============================] - 1s 2ms/step - loss: 0.3409 - accuracy: 0.7972 - val_loss: 0.3923 - val_accuracy: 0.7400\n",
            "Epoch 37/50\n",
            "600/600 [==============================] - 1s 2ms/step - loss: 0.3408 - accuracy: 0.7991 - val_loss: 0.3921 - val_accuracy: 0.7427\n",
            "Epoch 38/50\n",
            "600/600 [==============================] - 2s 3ms/step - loss: 0.3396 - accuracy: 0.8003 - val_loss: 0.3877 - val_accuracy: 0.7481\n",
            "Epoch 39/50\n",
            "600/600 [==============================] - 3s 4ms/step - loss: 0.3386 - accuracy: 0.8017 - val_loss: 0.3869 - val_accuracy: 0.7417\n",
            "Epoch 40/50\n",
            "600/600 [==============================] - 2s 3ms/step - loss: 0.3397 - accuracy: 0.8015 - val_loss: 0.3900 - val_accuracy: 0.7498\n",
            "Epoch 41/50\n",
            "600/600 [==============================] - 1s 2ms/step - loss: 0.3371 - accuracy: 0.8026 - val_loss: 0.3955 - val_accuracy: 0.7452\n",
            "Epoch 42/50\n",
            "600/600 [==============================] - 1s 2ms/step - loss: 0.3375 - accuracy: 0.8002 - val_loss: 0.3936 - val_accuracy: 0.7377\n",
            "Epoch 43/50\n",
            "600/600 [==============================] - 1s 2ms/step - loss: 0.3361 - accuracy: 0.8040 - val_loss: 0.3864 - val_accuracy: 0.7429\n",
            "Epoch 44/50\n",
            "600/600 [==============================] - 1s 2ms/step - loss: 0.3356 - accuracy: 0.8026 - val_loss: 0.4058 - val_accuracy: 0.7444\n",
            "Epoch 45/50\n",
            "600/600 [==============================] - 1s 2ms/step - loss: 0.3358 - accuracy: 0.8054 - val_loss: 0.3995 - val_accuracy: 0.7465\n",
            "Epoch 46/50\n",
            "600/600 [==============================] - 1s 2ms/step - loss: 0.3343 - accuracy: 0.8057 - val_loss: 0.3924 - val_accuracy: 0.7465\n",
            "Epoch 47/50\n",
            "600/600 [==============================] - 2s 4ms/step - loss: 0.3334 - accuracy: 0.8062 - val_loss: 0.3993 - val_accuracy: 0.7419\n",
            "Epoch 48/50\n",
            "600/600 [==============================] - 1s 2ms/step - loss: 0.3338 - accuracy: 0.8066 - val_loss: 0.3949 - val_accuracy: 0.7448\n",
            "Epoch 49/50\n",
            "600/600 [==============================] - 1s 2ms/step - loss: 0.3318 - accuracy: 0.8068 - val_loss: 0.3932 - val_accuracy: 0.7423\n",
            "Epoch 50/50\n",
            "600/600 [==============================] - 1s 2ms/step - loss: 0.3323 - accuracy: 0.8075 - val_loss: 0.3900 - val_accuracy: 0.7440\n"
          ]
        },
        {
          "output_type": "execute_result",
          "data": {
            "text/plain": [
              "<keras.src.callbacks.History at 0x7cfca48b57b0>"
            ]
          },
          "metadata": {},
          "execution_count": 23
        }
      ]
    },
    {
      "cell_type": "code",
      "source": [
        "# Step 5: Evaluating the model\n",
        "loss, accuracy = model.evaluate(X_test, y_test)\n",
        "print(f\"Test Accuracy: {accuracy * 100:.2f}%\")"
      ],
      "metadata": {
        "colab": {
          "base_uri": "https://localhost:8080/"
        },
        "id": "mg1Z-WFI_DSj",
        "outputId": "c3563329-7318-4f40-c1b9-3c9f2dba91ef"
      },
      "execution_count": 24,
      "outputs": [
        {
          "output_type": "stream",
          "name": "stdout",
          "text": [
            "188/188 [==============================] - 0s 1ms/step - loss: 0.3934 - accuracy: 0.7420\n",
            "Test Accuracy: 74.20%\n"
          ]
        }
      ]
    },
    {
      "cell_type": "code",
      "source": [
        "from tensorflow.keras.models import Sequential\n",
        "from tensorflow.keras.layers import Dense\n",
        "from tensorflow.keras.utils import to_categorical\n",
        "from sklearn.metrics import accuracy_score, precision_score, recall_score, f1_score\n",
        "import numpy as np\n",
        "\n",
        "# Predicting on the test set\n",
        "y_pred = model.predict(X_test)\n",
        "y_pred_classes = np.argmax(y_pred, axis=1)\n",
        "y_true = np.argmax(y_test, axis=1)\n",
        "\n",
        "# Calculating the metrics\n",
        "accuracy = accuracy_score(y_true, y_pred_classes)\n",
        "precision = precision_score(y_true, y_pred_classes, average='macro')\n",
        "recall = recall_score(y_true, y_pred_classes, average='macro')\n",
        "f1 = f1_score(y_true, y_pred_classes, average='macro')\n",
        "\n",
        "print(f\"Accuracy: {accuracy * 100:.2f}%\")\n",
        "print(f\"Precision: {precision:.2f}\")\n",
        "print(f\"Recall: {recall:.2f}\")\n",
        "print(f\"F1 Score: {f1:.2f}\")\n"
      ],
      "metadata": {
        "colab": {
          "base_uri": "https://localhost:8080/"
        },
        "id": "Ju-CU0xl_2Jh",
        "outputId": "0985c95d-bed4-4274-def0-6f0b37aeb42d"
      },
      "execution_count": 25,
      "outputs": [
        {
          "output_type": "stream",
          "name": "stdout",
          "text": [
            "188/188 [==============================] - 0s 1ms/step\n",
            "Accuracy: 74.20%\n",
            "Precision: 0.78\n",
            "Recall: 0.77\n",
            "F1 Score: 0.77\n"
          ]
        }
      ]
    },
    {
      "cell_type": "code",
      "source": [
        "def safe_encode(column, encoder, default='Unknown'):\n",
        "    try:\n",
        "        return encoder.transform(column)\n",
        "    except ValueError:\n",
        "        # If the category is unknown, assign a default label (e.g., the last label + 1)\n",
        "        return [len(encoder.classes_)] * len(column)\n",
        "\n",
        "# Modify the existing make_prediction function to handle unknown categories safely\n",
        "def make_prediction(input_data):\n",
        "    df = pd.DataFrame([input_data], columns=['User ID', 'Session Duration', 'Pages Visited', 'Items Viewed',\n",
        "                                             'Login Frequency', 'Cart Additions', 'Successful Transactions',\n",
        "                                             'Failed Transactions', 'Device Type', 'Age', 'Location'])\n",
        "\n",
        "    # Apply encoding safely\n",
        "    df['Location'] = safe_encode(df['Location'], label_encoders['Location'])\n",
        "    df['Device Type'] = safe_encode(df['Device Type'], label_encoders['Device Type'])\n",
        "    df['User ID'] = safe_encode(df['User ID'], label_encoders['User ID'])\n",
        "\n",
        "    # Standard scaling\n",
        "    df = scaler.transform(df)\n",
        "\n",
        "    # Make prediction\n",
        "    prediction = model.predict(df)\n",
        "    predicted_class = np.argmax(prediction)\n",
        "    predicted_auth_method = target_encoder.inverse_transform([predicted_class])[0]\n",
        "    return predicted_auth_method\n",
        "\n",
        "# Example input data\n",
        "input_data = {\n",
        "    'User ID': 50, 'Session Duration': 10, 'Pages Visited': 2, 'Items Viewed': 1,\n",
        "    'Login Frequency': 1, 'Cart Additions': 2, 'Successful Transactions': 1,\n",
        "    'Failed Transactions': 0, 'Device Type': 'Mobile', 'Age': 30, 'Location': 'USA'\n",
        "}\n",
        "\n",
        "predicted_auth_method = make_prediction(input_data)\n",
        "print(f\"Predicted Authentication Method: {predicted_auth_method}\")"
      ],
      "metadata": {
        "colab": {
          "base_uri": "https://localhost:8080/"
        },
        "id": "I_WQ9nIdAGQs",
        "outputId": "537c12c7-544d-4f83-c923-dddb8f7a19f6"
      },
      "execution_count": 29,
      "outputs": [
        {
          "output_type": "stream",
          "name": "stdout",
          "text": [
            "1/1 [==============================] - 0s 64ms/step\n",
            "Predicted Authentication Method: OTP\n"
          ]
        }
      ]
    },
    {
      "cell_type": "code",
      "source": [
        "# Optionally save the model\n",
        "model.save('authentication_model.h5')"
      ],
      "metadata": {
        "colab": {
          "base_uri": "https://localhost:8080/"
        },
        "id": "T9KMKdb9_Hhg",
        "outputId": "0f0f439f-315b-4120-d85e-8fea81462dba"
      },
      "execution_count": 30,
      "outputs": [
        {
          "output_type": "stream",
          "name": "stderr",
          "text": [
            "/usr/local/lib/python3.10/dist-packages/keras/src/engine/training.py:3103: UserWarning: You are saving your model as an HDF5 file via `model.save()`. This file format is considered legacy. We recommend using instead the native Keras format, e.g. `model.save('my_model.keras')`.\n",
            "  saving_api.save_model(\n"
          ]
        }
      ]
    },
    {
      "cell_type": "code",
      "source": [],
      "metadata": {
        "id": "qovnVIKGBi-M"
      },
      "execution_count": null,
      "outputs": []
    }
  ]
}